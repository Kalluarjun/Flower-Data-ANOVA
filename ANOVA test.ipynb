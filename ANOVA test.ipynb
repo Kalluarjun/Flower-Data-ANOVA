{
 "cells": [
  {
   "cell_type": "markdown",
   "id": "e5b582ca-e143-43b4-931c-9bcc3055d546",
   "metadata": {},
   "source": [
    "# ANOVA TEST"
   ]
  },
  {
   "cell_type": "code",
   "execution_count": 18,
   "id": "05321796-3d8a-4796-bc7d-6e0a9dd4b9ed",
   "metadata": {},
   "outputs": [],
   "source": [
    "import seaborn as sns\n",
    "df= sns.load_dataset('iris')"
   ]
  },
  {
   "cell_type": "code",
   "execution_count": 13,
   "id": "3641a728-0129-48f4-8a9c-ae1e8303b050",
   "metadata": {},
   "outputs": [],
   "source": [
    "import pandas as pd"
   ]
  },
  {
   "cell_type": "code",
   "execution_count": 19,
   "id": "3c1a3668-f780-43d4-bb08-f3f7a90a2557",
   "metadata": {},
   "outputs": [
    {
     "data": {
      "text/html": [
       "<div>\n",
       "<style scoped>\n",
       "    .dataframe tbody tr th:only-of-type {\n",
       "        vertical-align: middle;\n",
       "    }\n",
       "\n",
       "    .dataframe tbody tr th {\n",
       "        vertical-align: top;\n",
       "    }\n",
       "\n",
       "    .dataframe thead th {\n",
       "        text-align: right;\n",
       "    }\n",
       "</style>\n",
       "<table border=\"1\" class=\"dataframe\">\n",
       "  <thead>\n",
       "    <tr style=\"text-align: right;\">\n",
       "      <th></th>\n",
       "      <th>sepal_length</th>\n",
       "      <th>sepal_width</th>\n",
       "      <th>petal_length</th>\n",
       "      <th>petal_width</th>\n",
       "      <th>species</th>\n",
       "    </tr>\n",
       "  </thead>\n",
       "  <tbody>\n",
       "    <tr>\n",
       "      <th>0</th>\n",
       "      <td>5.1</td>\n",
       "      <td>3.5</td>\n",
       "      <td>1.4</td>\n",
       "      <td>0.2</td>\n",
       "      <td>setosa</td>\n",
       "    </tr>\n",
       "    <tr>\n",
       "      <th>1</th>\n",
       "      <td>4.9</td>\n",
       "      <td>3.0</td>\n",
       "      <td>1.4</td>\n",
       "      <td>0.2</td>\n",
       "      <td>setosa</td>\n",
       "    </tr>\n",
       "    <tr>\n",
       "      <th>2</th>\n",
       "      <td>4.7</td>\n",
       "      <td>3.2</td>\n",
       "      <td>1.3</td>\n",
       "      <td>0.2</td>\n",
       "      <td>setosa</td>\n",
       "    </tr>\n",
       "    <tr>\n",
       "      <th>3</th>\n",
       "      <td>4.6</td>\n",
       "      <td>3.1</td>\n",
       "      <td>1.5</td>\n",
       "      <td>0.2</td>\n",
       "      <td>setosa</td>\n",
       "    </tr>\n",
       "    <tr>\n",
       "      <th>4</th>\n",
       "      <td>5.0</td>\n",
       "      <td>3.6</td>\n",
       "      <td>1.4</td>\n",
       "      <td>0.2</td>\n",
       "      <td>setosa</td>\n",
       "    </tr>\n",
       "  </tbody>\n",
       "</table>\n",
       "</div>"
      ],
      "text/plain": [
       "   sepal_length  sepal_width  petal_length  petal_width species\n",
       "0           5.1          3.5           1.4          0.2  setosa\n",
       "1           4.9          3.0           1.4          0.2  setosa\n",
       "2           4.7          3.2           1.3          0.2  setosa\n",
       "3           4.6          3.1           1.5          0.2  setosa\n",
       "4           5.0          3.6           1.4          0.2  setosa"
      ]
     },
     "execution_count": 19,
     "metadata": {},
     "output_type": "execute_result"
    }
   ],
   "source": [
    "df.head()"
   ]
  },
  {
   "cell_type": "code",
   "execution_count": 20,
   "id": "303834ef-def9-442e-ad17-a38da4b7ce11",
   "metadata": {},
   "outputs": [],
   "source": [
    "grouped_data= df.groupby('species')['petal_width'].apply(list)"
   ]
  },
  {
   "cell_type": "code",
   "execution_count": 24,
   "id": "4ebf623d-18bd-4455-8415-8d2eb086868e",
   "metadata": {},
   "outputs": [],
   "source": [
    "setosa_petal_width= grouped_data['setosa']\n",
    "versicolor_petal_width= grouped_data['versicolor']\n",
    "virginica_petal_width= grouped_data['virginica']"
   ]
  },
  {
   "cell_type": "code",
   "execution_count": 23,
   "id": "399b5f92-fd65-4f24-a529-80555a766932",
   "metadata": {},
   "outputs": [],
   "source": [
    "from scipy import stats"
   ]
  },
  {
   "cell_type": "code",
   "execution_count": 25,
   "id": "bbfb4a08-8efd-4065-aa9c-4dbd7612be27",
   "metadata": {},
   "outputs": [],
   "source": [
    "f_stat, p_val= stats.f_oneway(setosa_petal_width, versicolor_petal_width, virginica_petal_width)"
   ]
  },
  {
   "cell_type": "code",
   "execution_count": 28,
   "id": "955a9765-0ee3-4116-9d03-31d5488558fb",
   "metadata": {},
   "outputs": [
    {
     "name": "stdout",
     "output_type": "stream",
     "text": [
      "960.007146801809, 4.1694458394430593e-85\n"
     ]
    }
   ],
   "source": [
    "print(f'{f_stat}, {p_val}')"
   ]
  },
  {
   "cell_type": "code",
   "execution_count": 31,
   "id": "51581687-f259-47ae-8f93-f0b27626f0b9",
   "metadata": {},
   "outputs": [
    {
     "name": "stdout",
     "output_type": "stream",
     "text": [
      "reject null hypothesis; there is no significant relationshiop\n"
     ]
    }
   ],
   "source": [
    "if p_val<0.05:\n",
    "    print(\"reject null hypothesis; there is no significant relationshiop\")\n",
    "else:\n",
    "    print(\"accept null hypothesis; there is significant relationshiop\")"
   ]
  },
  {
   "cell_type": "code",
   "execution_count": null,
   "id": "96254392-df5b-43de-abbf-cf3af9a5f9b3",
   "metadata": {},
   "outputs": [],
   "source": []
  }
 ],
 "metadata": {
  "kernelspec": {
   "display_name": "Python 3 (ipykernel)",
   "language": "python",
   "name": "python3"
  },
  "language_info": {
   "codemirror_mode": {
    "name": "ipython",
    "version": 3
   },
   "file_extension": ".py",
   "mimetype": "text/x-python",
   "name": "python",
   "nbconvert_exporter": "python",
   "pygments_lexer": "ipython3",
   "version": "3.13.0"
  }
 },
 "nbformat": 4,
 "nbformat_minor": 5
}
